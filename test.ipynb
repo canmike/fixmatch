{
 "cells": [
  {
   "cell_type": "code",
   "execution_count": 17,
   "metadata": {},
   "outputs": [
    {
     "name": "stdout",
     "output_type": "stream",
     "text": [
      "Mean RGB: [134.28807268 107.3587573   88.1992553 ]\n",
      "Standard Deviation RGB: [72.20683078 70.88173764 73.10276441]\n",
      "--------\n",
      "Mean RGB: [0.52661989 0.42101473 0.34587943]\n",
      "Standard Deviation RGB: [0.28316404 0.2779676  0.28667751]\n"
     ]
    }
   ],
   "source": [
    "import os\n",
    "import numpy as np\n",
    "from PIL import Image\n",
    "\n",
    "def calculate_mean_std(folder_path):\n",
    "    categories = [\"pizza\", \"steak\", \"sushi\"]\n",
    "    sum_of_pixels = np.zeros(3)  # One for each color channel (RGB)\n",
    "    sum_of_squares = np.zeros(3)\n",
    "    total_pixels = 0\n",
    "    \n",
    "    for category in categories:\n",
    "        category_path = os.path.join(folder_path, category)\n",
    "        files = os.listdir(category_path)\n",
    "        \n",
    "        for file in files:\n",
    "            image_path = os.path.join(category_path, file)\n",
    "            image = Image.open(image_path)\n",
    "            image_array = np.array(image).astype(np.float32)\n",
    "            \n",
    "            # Make sure the image is not grayscale\n",
    "            if len(image_array.shape) == 3:\n",
    "                sum_of_pixels += np.sum(image_array, axis=(0, 1))\n",
    "                sum_of_squares += np.sum(np.square(image_array), axis=(0, 1))\n",
    "                total_pixels += image_array.shape[0] * image_array.shape[1]\n",
    "    \n",
    "    # Calculating mean and std dev for each channel\n",
    "    mean = sum_of_pixels / total_pixels\n",
    "    variance = (sum_of_squares / total_pixels) - (mean ** 2)\n",
    "    std_dev = np.sqrt(variance)\n",
    "    \n",
    "    return mean, std_dev\n",
    "\n",
    "folder_path = \"data/pizza_steak_sushi/20label/train\"\n",
    "mean, std_dev = calculate_mean_std(folder_path)\n",
    "print(\"Mean RGB:\", mean)\n",
    "print(\"Standard Deviation RGB:\", std_dev)\n",
    "print(\"--------\")\n",
    "print(\"Mean RGB:\", mean/255)\n",
    "print(\"Standard Deviation RGB:\", std_dev/255)\n"
   ]
  },
  {
   "cell_type": "code",
   "execution_count": 14,
   "metadata": {},
   "outputs": [
    {
     "data": {
      "text/plain": [
       "[0.5266198928627451, 0.4210147345098039, 0.34587943254901965]"
      ]
     },
     "execution_count": 14,
     "metadata": {},
     "output_type": "execute_result"
    }
   ],
   "source": [
    "[134.28807268/255, 107.3587573/255,   88.1992553/255 ]"
   ]
  },
  {
   "cell_type": "code",
   "execution_count": 7,
   "metadata": {},
   "outputs": [
    {
     "data": {
      "text/plain": [
       "['test', 'train', 'unlabeled']"
      ]
     },
     "execution_count": 7,
     "metadata": {},
     "output_type": "execute_result"
    }
   ],
   "source": [
    "os.listdir(\"data/pizza_steak_sushi/20label\")"
   ]
  },
  {
   "cell_type": "code",
   "execution_count": 68,
   "metadata": {},
   "outputs": [],
   "source": [
    "import torch\n",
    "from torchvision import datasets\n",
    "from torchvision import transforms\n",
    "from torch.utils.data import Dataset"
   ]
  },
  {
   "cell_type": "code",
   "execution_count": 24,
   "metadata": {},
   "outputs": [],
   "source": [
    "\n",
    "pss_mean = (0.52661989, 0.42101473, 0.34587943)\n",
    "pss_std = (0.28316404, 0.2779676, 0.28667751)"
   ]
  },
  {
   "cell_type": "code",
   "execution_count": 30,
   "metadata": {},
   "outputs": [],
   "source": [
    "transform_labeled = transforms.Compose(\n",
    "    [\n",
    "        transforms.Resize((64, 64)),\n",
    "        transforms.RandomHorizontalFlip(),\n",
    "        # transforms.RandomCrop(\n",
    "        #     size=32, padding=int(32 * 0.125), padding_mode=\"reflect\"\n",
    "        # ),\n",
    "        transforms.ToTensor(),\n",
    "        transforms.Normalize(mean=pss_mean, std=pss_std),\n",
    "    ]\n",
    ")\n",
    "transform_val = transforms.Compose(\n",
    "    [\n",
    "        transforms.Resize((64, 64)),\n",
    "        transforms.ToTensor(),\n",
    "        transforms.Normalize(mean=pss_mean, std=pss_std),\n",
    "    ]\n",
    ")\n"
   ]
  },
  {
   "cell_type": "code",
   "execution_count": 32,
   "metadata": {},
   "outputs": [],
   "source": [
    "\n",
    "train_labeled_dataset = datasets.ImageFolder(\n",
    "    root=\"C:\\\\Users\\\\can.michael\\\\Desktop\\\\others\\\\SSL\\\\FixMatch\\\\FixMatch-pytorch\\\\data\\\\pizza_steak_sushi\\\\20label\\\\train\",\n",
    "    transform=transform_labeled,\n",
    "    target_transform=None,\n",
    ")"
   ]
  },
  {
   "cell_type": "code",
   "execution_count": 33,
   "metadata": {},
   "outputs": [
    {
     "data": {
      "text/plain": [
       "60"
      ]
     },
     "execution_count": 33,
     "metadata": {},
     "output_type": "execute_result"
    }
   ],
   "source": [
    "len(train_labeled_dataset)"
   ]
  },
  {
   "cell_type": "code",
   "execution_count": 42,
   "metadata": {},
   "outputs": [
    {
     "data": {
      "text/plain": [
       "(torch.Tensor, 0)"
      ]
     },
     "execution_count": 42,
     "metadata": {},
     "output_type": "execute_result"
    }
   ],
   "source": [
    "type(train_labeled_dataset[0][0]), train_labeled_dataset[0][1]"
   ]
  },
  {
   "cell_type": "code",
   "execution_count": 49,
   "metadata": {},
   "outputs": [],
   "source": [
    "from randaugment import RandAugmentMC"
   ]
  },
  {
   "cell_type": "code",
   "execution_count": 100,
   "metadata": {},
   "outputs": [],
   "source": [
    "class PSS_Unlabeled(Dataset):\n",
    "    def __init__(self, img_dir, transform):\n",
    "        self.ids = os.listdir(img_dir)\n",
    "        self.ids.sort()\n",
    "\n",
    "        self.images_fps = [os.path.join(img_dir, image_id) for image_id in self.ids]\n",
    "\n",
    "        self.transform = transform\n",
    "\n",
    "    def __len__(self):\n",
    "        return len(self.images_fps)\n",
    "\n",
    "    def __getitem__(self, i):\n",
    "        image = Image.open(self.images_fps[i])\n",
    "        img_transformed = self.transform(image)\n",
    "\n",
    "        return img_transformed\n",
    "        # img_transform = transforms.Compose([transforms.PILToTensor()])\n",
    "        # return img_transform(img_transformed[0]), img_transform(img_transformed[1])\n",
    "\n"
   ]
  },
  {
   "cell_type": "code",
   "execution_count": 101,
   "metadata": {},
   "outputs": [],
   "source": [
    "class TransformFixMatch(object):\n",
    "    def __init__(self, mean, std):\n",
    "        self.weak = transforms.Compose(\n",
    "            [\n",
    "                transforms.Resize((64, 64)),\n",
    "                transforms.RandomHorizontalFlip(),\n",
    "            ]\n",
    "        )\n",
    "        self.strong = transforms.Compose(\n",
    "            [\n",
    "                transforms.Resize((64, 64)),\n",
    "                transforms.RandomHorizontalFlip(),\n",
    "                RandAugmentMC(n=2, m=10),\n",
    "            ]\n",
    "        )\n",
    "        self.normalize = transforms.Compose(\n",
    "            [transforms.ToTensor(), transforms.Normalize(mean=mean, std=std)]\n",
    "        )\n",
    "\n",
    "    def __call__(self, x):\n",
    "        weak = self.weak(x)\n",
    "        strong = self.strong(x)\n",
    "        return self.normalize(weak), self.normalize(strong)\n",
    "\n"
   ]
  },
  {
   "cell_type": "code",
   "execution_count": 102,
   "metadata": {},
   "outputs": [],
   "source": [
    "\n",
    "train_unlabeled_dataset = PSS_Unlabeled(\n",
    "    img_dir=r\"C:\\\\Users\\\\can.michael\\\\Desktop\\\\others\\SSL\\\\FixMatch\\\\FixMatch-pytorch\\\\data\\\\pizza_steak_sushi\\\\20label\\\\unlabeled\",\n",
    "    transform=TransformFixMatch(mean=pss_mean, std=pss_std),\n",
    ")"
   ]
  },
  {
   "cell_type": "code",
   "execution_count": 105,
   "metadata": {},
   "outputs": [
    {
     "data": {
      "text/plain": [
       "164"
      ]
     },
     "execution_count": 105,
     "metadata": {},
     "output_type": "execute_result"
    }
   ],
   "source": [
    "len(train_unlabeled_dataset)"
   ]
  }
 ],
 "metadata": {
  "kernelspec": {
   "display_name": "torchenv",
   "language": "python",
   "name": "python3"
  },
  "language_info": {
   "codemirror_mode": {
    "name": "ipython",
    "version": 3
   },
   "file_extension": ".py",
   "mimetype": "text/x-python",
   "name": "python",
   "nbconvert_exporter": "python",
   "pygments_lexer": "ipython3",
   "version": "3.12.2"
  }
 },
 "nbformat": 4,
 "nbformat_minor": 2
}
